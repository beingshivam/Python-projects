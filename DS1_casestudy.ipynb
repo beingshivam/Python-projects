{
  "nbformat": 4,
  "nbformat_minor": 0,
  "metadata": {
    "colab": {
      "name": "DS1_casestudy.ipynb",
      "provenance": [],
      "authorship_tag": "ABX9TyP4RUT3w7lzq3mijrer2mLN",
      "include_colab_link": true
    },
    "kernelspec": {
      "name": "python3",
      "display_name": "Python 3"
    }
  },
  "cells": [
    {
      "cell_type": "markdown",
      "metadata": {
        "id": "view-in-github",
        "colab_type": "text"
      },
      "source": [
        "<a href=\"https://colab.research.google.com/github/beingshivam/Python-projects/blob/master/DS1_casestudy.ipynb\" target=\"_parent\"><img src=\"https://colab.research.google.com/assets/colab-badge.svg\" alt=\"Open In Colab\"/></a>"
      ]
    },
    {
      "cell_type": "code",
      "metadata": {
        "id": "y91nYOUdeVqP",
        "colab_type": "code",
        "colab": {}
      },
      "source": [
        "import pandas as pd\n",
        "import numpy as np\n"
      ],
      "execution_count": 0,
      "outputs": []
    },
    {
      "cell_type": "code",
      "metadata": {
        "id": "pFXRf3tuetsZ",
        "colab_type": "code",
        "colab": {}
      },
      "source": [
        "data = pd.read_csv('/admissions_data.csv')"
      ],
      "execution_count": 0,
      "outputs": []
    },
    {
      "cell_type": "code",
      "metadata": {
        "id": "B6HuO8HPkoUX",
        "colab_type": "code",
        "colab": {
          "base_uri": "https://localhost:8080/",
          "height": 202
        },
        "outputId": "17ccbffb-aa70-4c83-df58-2e9ca72c9f1d"
      },
      "source": [
        "data.head()"
      ],
      "execution_count": 6,
      "outputs": [
        {
          "output_type": "execute_result",
          "data": {
            "text/html": [
              "<div>\n",
              "<style scoped>\n",
              "    .dataframe tbody tr th:only-of-type {\n",
              "        vertical-align: middle;\n",
              "    }\n",
              "\n",
              "    .dataframe tbody tr th {\n",
              "        vertical-align: top;\n",
              "    }\n",
              "\n",
              "    .dataframe thead th {\n",
              "        text-align: right;\n",
              "    }\n",
              "</style>\n",
              "<table border=\"1\" class=\"dataframe\">\n",
              "  <thead>\n",
              "    <tr style=\"text-align: right;\">\n",
              "      <th></th>\n",
              "      <th>student_id</th>\n",
              "      <th>gender</th>\n",
              "      <th>major</th>\n",
              "      <th>admitted</th>\n",
              "    </tr>\n",
              "  </thead>\n",
              "  <tbody>\n",
              "    <tr>\n",
              "      <th>0</th>\n",
              "      <td>35377</td>\n",
              "      <td>female</td>\n",
              "      <td>Chemistry</td>\n",
              "      <td>False</td>\n",
              "    </tr>\n",
              "    <tr>\n",
              "      <th>1</th>\n",
              "      <td>56105</td>\n",
              "      <td>male</td>\n",
              "      <td>Physics</td>\n",
              "      <td>True</td>\n",
              "    </tr>\n",
              "    <tr>\n",
              "      <th>2</th>\n",
              "      <td>31441</td>\n",
              "      <td>female</td>\n",
              "      <td>Chemistry</td>\n",
              "      <td>False</td>\n",
              "    </tr>\n",
              "    <tr>\n",
              "      <th>3</th>\n",
              "      <td>51765</td>\n",
              "      <td>male</td>\n",
              "      <td>Physics</td>\n",
              "      <td>True</td>\n",
              "    </tr>\n",
              "    <tr>\n",
              "      <th>4</th>\n",
              "      <td>53714</td>\n",
              "      <td>female</td>\n",
              "      <td>Physics</td>\n",
              "      <td>True</td>\n",
              "    </tr>\n",
              "  </tbody>\n",
              "</table>\n",
              "</div>"
            ],
            "text/plain": [
              "   student_id  gender      major  admitted\n",
              "0       35377  female  Chemistry     False\n",
              "1       56105    male    Physics      True\n",
              "2       31441  female  Chemistry     False\n",
              "3       51765    male    Physics      True\n",
              "4       53714  female    Physics      True"
            ]
          },
          "metadata": {
            "tags": []
          },
          "execution_count": 6
        }
      ]
    },
    {
      "cell_type": "code",
      "metadata": {
        "id": "pfNQSrvWk3b7",
        "colab_type": "code",
        "colab": {
          "base_uri": "https://localhost:8080/",
          "height": 35
        },
        "outputId": "9b84c8a7-789e-42e3-de47-bd72a991b692"
      },
      "source": [
        "data.shape\n"
      ],
      "execution_count": 8,
      "outputs": [
        {
          "output_type": "execute_result",
          "data": {
            "text/plain": [
              "(500, 4)"
            ]
          },
          "metadata": {
            "tags": []
          },
          "execution_count": 8
        }
      ]
    },
    {
      "cell_type": "code",
      "metadata": {
        "id": "HJNZLAuEsvEs",
        "colab_type": "code",
        "colab": {
          "base_uri": "https://localhost:8080/",
          "height": 35
        },
        "outputId": "c87044b9-5c2c-4ca0-c264-60864b021c1c"
      },
      "source": [
        "data.size"
      ],
      "execution_count": 9,
      "outputs": [
        {
          "output_type": "execute_result",
          "data": {
            "text/plain": [
              "2000"
            ]
          },
          "metadata": {
            "tags": []
          },
          "execution_count": 9
        }
      ]
    },
    {
      "cell_type": "code",
      "metadata": {
        "id": "IsMXUSpdvwMB",
        "colab_type": "code",
        "colab": {
          "base_uri": "https://localhost:8080/",
          "height": 173
        },
        "outputId": "dd49b48e-1c32-4864-af06-312e185cc17a"
      },
      "source": [
        "data.info()"
      ],
      "execution_count": 11,
      "outputs": [
        {
          "output_type": "stream",
          "text": [
            "<class 'pandas.core.frame.DataFrame'>\n",
            "RangeIndex: 500 entries, 0 to 499\n",
            "Data columns (total 4 columns):\n",
            "student_id    500 non-null int64\n",
            "gender        500 non-null object\n",
            "major         500 non-null object\n",
            "admitted      500 non-null bool\n",
            "dtypes: bool(1), int64(1), object(2)\n",
            "memory usage: 12.3+ KB\n"
          ],
          "name": "stdout"
        }
      ]
    },
    {
      "cell_type": "code",
      "metadata": {
        "id": "OGV6FjLLv7H6",
        "colab_type": "code",
        "colab": {
          "base_uri": "https://localhost:8080/",
          "height": 386
        },
        "outputId": "37815aa4-026a-4eb3-bee5-8c012c02a2ea"
      },
      "source": [
        "data.describe(include = 'all')"
      ],
      "execution_count": 16,
      "outputs": [
        {
          "output_type": "execute_result",
          "data": {
            "text/html": [
              "<div>\n",
              "<style scoped>\n",
              "    .dataframe tbody tr th:only-of-type {\n",
              "        vertical-align: middle;\n",
              "    }\n",
              "\n",
              "    .dataframe tbody tr th {\n",
              "        vertical-align: top;\n",
              "    }\n",
              "\n",
              "    .dataframe thead th {\n",
              "        text-align: right;\n",
              "    }\n",
              "</style>\n",
              "<table border=\"1\" class=\"dataframe\">\n",
              "  <thead>\n",
              "    <tr style=\"text-align: right;\">\n",
              "      <th></th>\n",
              "      <th>student_id</th>\n",
              "      <th>gender</th>\n",
              "      <th>major</th>\n",
              "      <th>admitted</th>\n",
              "    </tr>\n",
              "  </thead>\n",
              "  <tbody>\n",
              "    <tr>\n",
              "      <th>count</th>\n",
              "      <td>500.000000</td>\n",
              "      <td>500</td>\n",
              "      <td>500</td>\n",
              "      <td>500</td>\n",
              "    </tr>\n",
              "    <tr>\n",
              "      <th>unique</th>\n",
              "      <td>NaN</td>\n",
              "      <td>2</td>\n",
              "      <td>2</td>\n",
              "      <td>2</td>\n",
              "    </tr>\n",
              "    <tr>\n",
              "      <th>top</th>\n",
              "      <td>NaN</td>\n",
              "      <td>female</td>\n",
              "      <td>Physics</td>\n",
              "      <td>False</td>\n",
              "    </tr>\n",
              "    <tr>\n",
              "      <th>freq</th>\n",
              "      <td>NaN</td>\n",
              "      <td>257</td>\n",
              "      <td>256</td>\n",
              "      <td>308</td>\n",
              "    </tr>\n",
              "    <tr>\n",
              "      <th>mean</th>\n",
              "      <td>41495.084000</td>\n",
              "      <td>NaN</td>\n",
              "      <td>NaN</td>\n",
              "      <td>NaN</td>\n",
              "    </tr>\n",
              "    <tr>\n",
              "      <th>std</th>\n",
              "      <td>10065.292424</td>\n",
              "      <td>NaN</td>\n",
              "      <td>NaN</td>\n",
              "      <td>NaN</td>\n",
              "    </tr>\n",
              "    <tr>\n",
              "      <th>min</th>\n",
              "      <td>24348.000000</td>\n",
              "      <td>NaN</td>\n",
              "      <td>NaN</td>\n",
              "      <td>NaN</td>\n",
              "    </tr>\n",
              "    <tr>\n",
              "      <th>25%</th>\n",
              "      <td>32429.750000</td>\n",
              "      <td>NaN</td>\n",
              "      <td>NaN</td>\n",
              "      <td>NaN</td>\n",
              "    </tr>\n",
              "    <tr>\n",
              "      <th>50%</th>\n",
              "      <td>41460.500000</td>\n",
              "      <td>NaN</td>\n",
              "      <td>NaN</td>\n",
              "      <td>NaN</td>\n",
              "    </tr>\n",
              "    <tr>\n",
              "      <th>75%</th>\n",
              "      <td>50687.750000</td>\n",
              "      <td>NaN</td>\n",
              "      <td>NaN</td>\n",
              "      <td>NaN</td>\n",
              "    </tr>\n",
              "    <tr>\n",
              "      <th>max</th>\n",
              "      <td>58298.000000</td>\n",
              "      <td>NaN</td>\n",
              "      <td>NaN</td>\n",
              "      <td>NaN</td>\n",
              "    </tr>\n",
              "  </tbody>\n",
              "</table>\n",
              "</div>"
            ],
            "text/plain": [
              "          student_id  gender    major admitted\n",
              "count     500.000000     500      500      500\n",
              "unique           NaN       2        2        2\n",
              "top              NaN  female  Physics    False\n",
              "freq             NaN     257      256      308\n",
              "mean    41495.084000     NaN      NaN      NaN\n",
              "std     10065.292424     NaN      NaN      NaN\n",
              "min     24348.000000     NaN      NaN      NaN\n",
              "25%     32429.750000     NaN      NaN      NaN\n",
              "50%     41460.500000     NaN      NaN      NaN\n",
              "75%     50687.750000     NaN      NaN      NaN\n",
              "max     58298.000000     NaN      NaN      NaN"
            ]
          },
          "metadata": {
            "tags": []
          },
          "execution_count": 16
        }
      ]
    },
    {
      "cell_type": "code",
      "metadata": {
        "id": "5jTaJ65EwHkj",
        "colab_type": "code",
        "colab": {
          "base_uri": "https://localhost:8080/",
          "height": 35
        },
        "outputId": "f8becfdb-6a63-448d-a7d4-514bb44f11a8"
      },
      "source": [
        "data.gender.unique()\n"
      ],
      "execution_count": 17,
      "outputs": [
        {
          "output_type": "execute_result",
          "data": {
            "text/plain": [
              "array(['female', 'male'], dtype=object)"
            ]
          },
          "metadata": {
            "tags": []
          },
          "execution_count": 17
        }
      ]
    },
    {
      "cell_type": "code",
      "metadata": {
        "id": "FV-bEryszVN-",
        "colab_type": "code",
        "colab": {
          "base_uri": "https://localhost:8080/",
          "height": 35
        },
        "outputId": "3441a608-458c-4ac1-caf3-a9e2c0e97380"
      },
      "source": [
        "data.major.unique()"
      ],
      "execution_count": 18,
      "outputs": [
        {
          "output_type": "execute_result",
          "data": {
            "text/plain": [
              "array(['Chemistry', 'Physics'], dtype=object)"
            ]
          },
          "metadata": {
            "tags": []
          },
          "execution_count": 18
        }
      ]
    },
    {
      "cell_type": "code",
      "metadata": {
        "id": "qfx0fXuIzXnq",
        "colab_type": "code",
        "colab": {
          "base_uri": "https://localhost:8080/",
          "height": 35
        },
        "outputId": "e2549303-3c03-497e-deeb-122acdc61544"
      },
      "source": [
        "data.admitted.unique()"
      ],
      "execution_count": 19,
      "outputs": [
        {
          "output_type": "execute_result",
          "data": {
            "text/plain": [
              "array([False,  True])"
            ]
          },
          "metadata": {
            "tags": []
          },
          "execution_count": 19
        }
      ]
    },
    {
      "cell_type": "code",
      "metadata": {
        "id": "UZFe-mbUzZcw",
        "colab_type": "code",
        "colab": {
          "base_uri": "https://localhost:8080/",
          "height": 202
        },
        "outputId": "6dd7ea6a-87e9-454b-8e18-f9f43d1a156d"
      },
      "source": [
        "data.head()"
      ],
      "execution_count": 20,
      "outputs": [
        {
          "output_type": "execute_result",
          "data": {
            "text/html": [
              "<div>\n",
              "<style scoped>\n",
              "    .dataframe tbody tr th:only-of-type {\n",
              "        vertical-align: middle;\n",
              "    }\n",
              "\n",
              "    .dataframe tbody tr th {\n",
              "        vertical-align: top;\n",
              "    }\n",
              "\n",
              "    .dataframe thead th {\n",
              "        text-align: right;\n",
              "    }\n",
              "</style>\n",
              "<table border=\"1\" class=\"dataframe\">\n",
              "  <thead>\n",
              "    <tr style=\"text-align: right;\">\n",
              "      <th></th>\n",
              "      <th>student_id</th>\n",
              "      <th>gender</th>\n",
              "      <th>major</th>\n",
              "      <th>admitted</th>\n",
              "    </tr>\n",
              "  </thead>\n",
              "  <tbody>\n",
              "    <tr>\n",
              "      <th>0</th>\n",
              "      <td>35377</td>\n",
              "      <td>female</td>\n",
              "      <td>Chemistry</td>\n",
              "      <td>False</td>\n",
              "    </tr>\n",
              "    <tr>\n",
              "      <th>1</th>\n",
              "      <td>56105</td>\n",
              "      <td>male</td>\n",
              "      <td>Physics</td>\n",
              "      <td>True</td>\n",
              "    </tr>\n",
              "    <tr>\n",
              "      <th>2</th>\n",
              "      <td>31441</td>\n",
              "      <td>female</td>\n",
              "      <td>Chemistry</td>\n",
              "      <td>False</td>\n",
              "    </tr>\n",
              "    <tr>\n",
              "      <th>3</th>\n",
              "      <td>51765</td>\n",
              "      <td>male</td>\n",
              "      <td>Physics</td>\n",
              "      <td>True</td>\n",
              "    </tr>\n",
              "    <tr>\n",
              "      <th>4</th>\n",
              "      <td>53714</td>\n",
              "      <td>female</td>\n",
              "      <td>Physics</td>\n",
              "      <td>True</td>\n",
              "    </tr>\n",
              "  </tbody>\n",
              "</table>\n",
              "</div>"
            ],
            "text/plain": [
              "   student_id  gender      major  admitted\n",
              "0       35377  female  Chemistry     False\n",
              "1       56105    male    Physics      True\n",
              "2       31441  female  Chemistry     False\n",
              "3       51765    male    Physics      True\n",
              "4       53714  female    Physics      True"
            ]
          },
          "metadata": {
            "tags": []
          },
          "execution_count": 20
        }
      ]
    },
    {
      "cell_type": "code",
      "metadata": {
        "id": "KpmChSzvOOs-",
        "colab_type": "code",
        "colab": {}
      },
      "source": [
        "female_count = data[data['gender']=='female'].admitted.count()"
      ],
      "execution_count": 0,
      "outputs": []
    },
    {
      "cell_type": "code",
      "metadata": {
        "id": "vcqyGGl5Oh7Z",
        "colab_type": "code",
        "colab": {}
      },
      "source": [
        "male_count = data[data['gender']=='male'].admitted.count()"
      ],
      "execution_count": 0,
      "outputs": []
    },
    {
      "cell_type": "code",
      "metadata": {
        "id": "FtW8nIEsPXKt",
        "colab_type": "code",
        "colab": {}
      },
      "source": [
        "female_data = data[(data['gender']=='female')]"
      ],
      "execution_count": 0,
      "outputs": []
    },
    {
      "cell_type": "markdown",
      "metadata": {
        "id": "jIkqvfTpSE4V",
        "colab_type": "text"
      },
      "source": [
        "(data['admitted']=='True')"
      ]
    },
    {
      "cell_type": "code",
      "metadata": {
        "id": "ks91QR2MPYTr",
        "colab_type": "code",
        "colab": {
          "base_uri": "https://localhost:8080/",
          "height": 202
        },
        "outputId": "27f3167b-adc7-472c-9baa-08f1ed46e84b"
      },
      "source": [
        "female_data.head()"
      ],
      "execution_count": 51,
      "outputs": [
        {
          "output_type": "execute_result",
          "data": {
            "text/html": [
              "<div>\n",
              "<style scoped>\n",
              "    .dataframe tbody tr th:only-of-type {\n",
              "        vertical-align: middle;\n",
              "    }\n",
              "\n",
              "    .dataframe tbody tr th {\n",
              "        vertical-align: top;\n",
              "    }\n",
              "\n",
              "    .dataframe thead th {\n",
              "        text-align: right;\n",
              "    }\n",
              "</style>\n",
              "<table border=\"1\" class=\"dataframe\">\n",
              "  <thead>\n",
              "    <tr style=\"text-align: right;\">\n",
              "      <th></th>\n",
              "      <th>student_id</th>\n",
              "      <th>gender</th>\n",
              "      <th>major</th>\n",
              "      <th>admitted</th>\n",
              "    </tr>\n",
              "  </thead>\n",
              "  <tbody>\n",
              "    <tr>\n",
              "      <th>0</th>\n",
              "      <td>35377</td>\n",
              "      <td>female</td>\n",
              "      <td>Chemistry</td>\n",
              "      <td>False</td>\n",
              "    </tr>\n",
              "    <tr>\n",
              "      <th>2</th>\n",
              "      <td>31441</td>\n",
              "      <td>female</td>\n",
              "      <td>Chemistry</td>\n",
              "      <td>False</td>\n",
              "    </tr>\n",
              "    <tr>\n",
              "      <th>4</th>\n",
              "      <td>53714</td>\n",
              "      <td>female</td>\n",
              "      <td>Physics</td>\n",
              "      <td>True</td>\n",
              "    </tr>\n",
              "    <tr>\n",
              "      <th>5</th>\n",
              "      <td>50693</td>\n",
              "      <td>female</td>\n",
              "      <td>Chemistry</td>\n",
              "      <td>False</td>\n",
              "    </tr>\n",
              "    <tr>\n",
              "      <th>7</th>\n",
              "      <td>27648</td>\n",
              "      <td>female</td>\n",
              "      <td>Chemistry</td>\n",
              "      <td>True</td>\n",
              "    </tr>\n",
              "  </tbody>\n",
              "</table>\n",
              "</div>"
            ],
            "text/plain": [
              "   student_id  gender      major  admitted\n",
              "0       35377  female  Chemistry     False\n",
              "2       31441  female  Chemistry     False\n",
              "4       53714  female    Physics      True\n",
              "5       50693  female  Chemistry     False\n",
              "7       27648  female  Chemistry      True"
            ]
          },
          "metadata": {
            "tags": []
          },
          "execution_count": 51
        }
      ]
    },
    {
      "cell_type": "code",
      "metadata": {
        "id": "OC1vHHZISdAu",
        "colab_type": "code",
        "colab": {}
      },
      "source": [
        "female_admits = data[(data['gender']=='female')]['admitted'] "
      ],
      "execution_count": 0,
      "outputs": []
    },
    {
      "cell_type": "code",
      "metadata": {
        "id": "E5Ql8cPpTTQl",
        "colab_type": "code",
        "colab": {
          "base_uri": "https://localhost:8080/",
          "height": 69
        },
        "outputId": "a41f259d-6c5c-4236-e3e9-c9110b42bcdd"
      },
      "source": [
        "female_admits.value_counts()"
      ],
      "execution_count": 95,
      "outputs": [
        {
          "output_type": "execute_result",
          "data": {
            "text/plain": [
              "False    183\n",
              "True      74\n",
              "Name: admitted, dtype: int64"
            ]
          },
          "metadata": {
            "tags": []
          },
          "execution_count": 95
        }
      ]
    },
    {
      "cell_type": "code",
      "metadata": {
        "id": "PgDthpdRagNc",
        "colab_type": "code",
        "colab": {}
      },
      "source": [
        "male_admits = data[(data['gender']=='male')]['admitted'] "
      ],
      "execution_count": 0,
      "outputs": []
    },
    {
      "cell_type": "code",
      "metadata": {
        "id": "Hrsq6c3KbXYj",
        "colab_type": "code",
        "colab": {}
      },
      "source": [
        "male_Not_admitted = male_admits.value_counts()[0]"
      ],
      "execution_count": 0,
      "outputs": []
    },
    {
      "cell_type": "code",
      "metadata": {
        "id": "IT3pvyjObaD4",
        "colab_type": "code",
        "colab": {}
      },
      "source": [
        "male_admitted = male_admits.value_counts()[1]"
      ],
      "execution_count": 0,
      "outputs": []
    },
    {
      "cell_type": "code",
      "metadata": {
        "id": "kCejoVsVbnRk",
        "colab_type": "code",
        "colab": {}
      },
      "source": [
        "female_Not_admitted = female_admits.value_counts()[0]"
      ],
      "execution_count": 0,
      "outputs": []
    },
    {
      "cell_type": "code",
      "metadata": {
        "id": "dd543gEad7Qx",
        "colab_type": "code",
        "colab": {}
      },
      "source": [
        "female_admitted = female_admits.value_counts()[1]"
      ],
      "execution_count": 0,
      "outputs": []
    },
    {
      "cell_type": "markdown",
      "metadata": {
        "id": "sABJIFFJg5XB",
        "colab_type": "text"
      },
      "source": [
        "# **Total Female admit: 28.79%**"
      ]
    },
    {
      "cell_type": "code",
      "metadata": {
        "id": "5KN7rFfVd_VO",
        "colab_type": "code",
        "colab": {
          "base_uri": "https://localhost:8080/",
          "height": 35
        },
        "outputId": "cc7f0369-4615-463c-dc55-1b78d65ccff1"
      },
      "source": [
        "#total female admit %\n",
        "\n",
        "female_admitted/female_count*100"
      ],
      "execution_count": 111,
      "outputs": [
        {
          "output_type": "execute_result",
          "data": {
            "text/plain": [
              "28.793774319066145"
            ]
          },
          "metadata": {
            "tags": []
          },
          "execution_count": 111
        }
      ]
    },
    {
      "cell_type": "markdown",
      "metadata": {
        "id": "8qekRvPghHpB",
        "colab_type": "text"
      },
      "source": [
        "# **Total Male admit: 48.55%**"
      ]
    },
    {
      "cell_type": "code",
      "metadata": {
        "id": "oYEDkGh0eTZ1",
        "colab_type": "code",
        "colab": {
          "base_uri": "https://localhost:8080/",
          "height": 35
        },
        "outputId": "fb40421f-0b70-4383-aa55-cd3169a77127"
      },
      "source": [
        "#total male admit %\n",
        "\n",
        "male_admitted/male_count*100\n"
      ],
      "execution_count": 112,
      "outputs": [
        {
          "output_type": "execute_result",
          "data": {
            "text/plain": [
              "48.559670781893004"
            ]
          },
          "metadata": {
            "tags": []
          },
          "execution_count": 112
        }
      ]
    },
    {
      "cell_type": "code",
      "metadata": {
        "id": "gPBzb1XYebun",
        "colab_type": "code",
        "colab": {}
      },
      "source": [
        "Chemistry_admit_count = data[data['major']=='Chemistry'].admitted.value_counts()[1]"
      ],
      "execution_count": 0,
      "outputs": []
    },
    {
      "cell_type": "code",
      "metadata": {
        "id": "1UOR6vN5evFg",
        "colab_type": "code",
        "colab": {}
      },
      "source": [
        "Chemistry_Total_count = data[data['major']=='Chemistry'].admitted.count()"
      ],
      "execution_count": 0,
      "outputs": []
    },
    {
      "cell_type": "markdown",
      "metadata": {
        "id": "aNKlBpOiiuyz",
        "colab_type": "text"
      },
      "source": [
        "# Total Chemistry admit: **21.72%**"
      ]
    },
    {
      "cell_type": "code",
      "metadata": {
        "id": "AFLZ6IBOe3ah",
        "colab_type": "code",
        "colab": {
          "base_uri": "https://localhost:8080/",
          "height": 35
        },
        "outputId": "976fcbbe-1e7c-4f85-c103-661a8dd0f22f"
      },
      "source": [
        "Chemistry_admit_count/Chemistry_Total_count*100"
      ],
      "execution_count": 136,
      "outputs": [
        {
          "output_type": "execute_result",
          "data": {
            "text/plain": [
              "21.721311475409834"
            ]
          },
          "metadata": {
            "tags": []
          },
          "execution_count": 136
        }
      ]
    },
    {
      "cell_type": "code",
      "metadata": {
        "id": "CBP9Iy_PfCTJ",
        "colab_type": "code",
        "colab": {}
      },
      "source": [
        "physics_admit_count = data[data['major']=='Physics'].admitted.value_counts()[1]"
      ],
      "execution_count": 0,
      "outputs": []
    },
    {
      "cell_type": "code",
      "metadata": {
        "id": "zbdYIyG3gkvI",
        "colab_type": "code",
        "colab": {}
      },
      "source": [
        "physics_Total_count = data[data['major']=='Physics'].admitted.count()"
      ],
      "execution_count": 0,
      "outputs": []
    },
    {
      "cell_type": "markdown",
      "metadata": {
        "colab_type": "text",
        "id": "0kjYCN5xj2Ka"
      },
      "source": [
        "# Total Physics admit: **54.29%**"
      ]
    },
    {
      "cell_type": "code",
      "metadata": {
        "id": "TLE787DBjfjL",
        "colab_type": "code",
        "colab": {
          "base_uri": "https://localhost:8080/",
          "height": 35
        },
        "outputId": "dcb8403d-991d-4d92-8e77-d8f7bf0b8a29"
      },
      "source": [
        "physics_admit_count/physics_Total_count*100"
      ],
      "execution_count": 139,
      "outputs": [
        {
          "output_type": "execute_result",
          "data": {
            "text/plain": [
              "54.296875"
            ]
          },
          "metadata": {
            "tags": []
          },
          "execution_count": 139
        }
      ]
    },
    {
      "cell_type": "code",
      "metadata": {
        "id": "eElnwejSks7n",
        "colab_type": "code",
        "colab": {}
      },
      "source": [
        "#Total Students"
      ],
      "execution_count": 0,
      "outputs": []
    },
    {
      "cell_type": "markdown",
      "metadata": {
        "id": "E379fvPyk06M",
        "colab_type": "text"
      },
      "source": [
        "Total Students-> 500"
      ]
    },
    {
      "cell_type": "code",
      "metadata": {
        "id": "-VYDMkfIkWUH",
        "colab_type": "code",
        "colab": {
          "base_uri": "https://localhost:8080/",
          "height": 35
        },
        "outputId": "83319b1d-346c-4ec8-9900-499a8f3f1dd2"
      },
      "source": [
        "data[data['gender']=='male'].gender.count()"
      ],
      "execution_count": 144,
      "outputs": [
        {
          "output_type": "execute_result",
          "data": {
            "text/plain": [
              "243"
            ]
          },
          "metadata": {
            "tags": []
          },
          "execution_count": 144
        }
      ]
    },
    {
      "cell_type": "code",
      "metadata": {
        "id": "M2lP2Y2FkeEB",
        "colab_type": "code",
        "colab": {
          "base_uri": "https://localhost:8080/",
          "height": 35
        },
        "outputId": "61c239de-5754-42b1-f6c5-42667a17c105"
      },
      "source": [
        "data.gender.count()"
      ],
      "execution_count": 145,
      "outputs": [
        {
          "output_type": "execute_result",
          "data": {
            "text/plain": [
              "500"
            ]
          },
          "metadata": {
            "tags": []
          },
          "execution_count": 145
        }
      ]
    },
    {
      "cell_type": "markdown",
      "metadata": {
        "id": "I330IzYGk8xP",
        "colab_type": "text"
      },
      "source": [
        "# Male Students: **48.6%**"
      ]
    },
    {
      "cell_type": "code",
      "metadata": {
        "id": "adAYoogjlAjC",
        "colab_type": "code",
        "colab": {
          "base_uri": "https://localhost:8080/",
          "height": 35
        },
        "outputId": "89ee4495-7262-428a-eb78-8b103d41afca"
      },
      "source": [
        "(data[data['gender']=='male'].gender.count())/(data.gender.count())*100"
      ],
      "execution_count": 146,
      "outputs": [
        {
          "output_type": "execute_result",
          "data": {
            "text/plain": [
              "48.6"
            ]
          },
          "metadata": {
            "tags": []
          },
          "execution_count": 146
        }
      ]
    },
    {
      "cell_type": "markdown",
      "metadata": {
        "id": "Zzhcn8rskPoe",
        "colab_type": "text"
      },
      "source": [
        "# Female Students: **51.4%**"
      ]
    },
    {
      "cell_type": "code",
      "metadata": {
        "id": "oAWVMEHxlOyG",
        "colab_type": "code",
        "colab": {
          "base_uri": "https://localhost:8080/",
          "height": 35
        },
        "outputId": "d61757a8-f000-44fd-a604-278d54d2030c"
      },
      "source": [
        "(data[data['gender']=='female'].gender.count())/(data.gender.count())*100"
      ],
      "execution_count": 147,
      "outputs": [
        {
          "output_type": "execute_result",
          "data": {
            "text/plain": [
              "51.4"
            ]
          },
          "metadata": {
            "tags": []
          },
          "execution_count": 147
        }
      ]
    },
    {
      "cell_type": "code",
      "metadata": {
        "id": "eGidhO_hlRrQ",
        "colab_type": "code",
        "colab": {
          "base_uri": "https://localhost:8080/",
          "height": 69
        },
        "outputId": "90b0af16-d7fa-4f59-ba81-c9a30cfdf4a1"
      },
      "source": [
        "data[data['gender']=='female'].major.value_counts()"
      ],
      "execution_count": 150,
      "outputs": [
        {
          "output_type": "execute_result",
          "data": {
            "text/plain": [
              "Chemistry    226\n",
              "Physics       31\n",
              "Name: major, dtype: int64"
            ]
          },
          "metadata": {
            "tags": []
          },
          "execution_count": 150
        }
      ]
    },
    {
      "cell_type": "code",
      "metadata": {
        "id": "Wbmb1IagmL4a",
        "colab_type": "code",
        "colab": {}
      },
      "source": [
        ""
      ],
      "execution_count": 0,
      "outputs": []
    },
    {
      "cell_type": "markdown",
      "metadata": {
        "id": "WVyebQDMmYRY",
        "colab_type": "text"
      },
      "source": [
        "# Total females with Physics major: **12.06%**"
      ]
    },
    {
      "cell_type": "code",
      "metadata": {
        "id": "omawa6STmmfW",
        "colab_type": "code",
        "colab": {
          "base_uri": "https://localhost:8080/",
          "height": 35
        },
        "outputId": "2fc48161-8716-494e-905d-635bd07f9bc1"
      },
      "source": [
        "(data[data['gender']=='female'].major.value_counts()[1])/(female_count)*100"
      ],
      "execution_count": 151,
      "outputs": [
        {
          "output_type": "execute_result",
          "data": {
            "text/plain": [
              "12.062256809338521"
            ]
          },
          "metadata": {
            "tags": []
          },
          "execution_count": 151
        }
      ]
    },
    {
      "cell_type": "code",
      "metadata": {
        "id": "jIr_fa0Nmyia",
        "colab_type": "code",
        "colab": {}
      },
      "source": [
        ""
      ],
      "execution_count": 0,
      "outputs": []
    },
    {
      "cell_type": "markdown",
      "metadata": {
        "id": "877LSsjznIcT",
        "colab_type": "text"
      },
      "source": [
        "# Total females with Chemistry major: **87.9%**"
      ]
    },
    {
      "cell_type": "code",
      "metadata": {
        "id": "eGZkZaQonNBg",
        "colab_type": "code",
        "colab": {
          "base_uri": "https://localhost:8080/",
          "height": 35
        },
        "outputId": "9fd77ac9-6049-44cc-d6f6-a24df0d11aea"
      },
      "source": [
        "(data[data['gender']=='female'].major.value_counts()[0])/(female_count)*100"
      ],
      "execution_count": 152,
      "outputs": [
        {
          "output_type": "execute_result",
          "data": {
            "text/plain": [
              "87.93774319066148"
            ]
          },
          "metadata": {
            "tags": []
          },
          "execution_count": 152
        }
      ]
    },
    {
      "cell_type": "code",
      "metadata": {
        "id": "IGBersUSnPuF",
        "colab_type": "code",
        "colab": {}
      },
      "source": [
        ""
      ],
      "execution_count": 0,
      "outputs": []
    },
    {
      "cell_type": "markdown",
      "metadata": {
        "colab_type": "text",
        "id": "TW01qT3fnfRv"
      },
      "source": [
        "# Total males with Chemistry major: **92.59%**"
      ]
    },
    {
      "cell_type": "code",
      "metadata": {
        "id": "uhpbiYdenifE",
        "colab_type": "code",
        "colab": {
          "base_uri": "https://localhost:8080/",
          "height": 35
        },
        "outputId": "bb426c0a-e864-4345-cd5f-fc8a678c7eb3"
      },
      "source": [
        "(data[data['gender']=='male'].major.value_counts()[0])/(male_count)*100"
      ],
      "execution_count": 153,
      "outputs": [
        {
          "output_type": "execute_result",
          "data": {
            "text/plain": [
              "92.5925925925926"
            ]
          },
          "metadata": {
            "tags": []
          },
          "execution_count": 153
        }
      ]
    },
    {
      "cell_type": "markdown",
      "metadata": {
        "colab_type": "text",
        "id": "UnbLsrpFnf9B"
      },
      "source": [
        "# Total males with Physics major: **7.4%**"
      ]
    },
    {
      "cell_type": "code",
      "metadata": {
        "id": "veWiIAjEnupH",
        "colab_type": "code",
        "colab": {
          "base_uri": "https://localhost:8080/",
          "height": 35
        },
        "outputId": "11ff59bf-a678-4681-93da-f9f4560ddff8"
      },
      "source": [
        "(data[data['gender']=='male'].major.value_counts()[1])/(male_count)*100"
      ],
      "execution_count": 154,
      "outputs": [
        {
          "output_type": "execute_result",
          "data": {
            "text/plain": [
              "7.4074074074074066"
            ]
          },
          "metadata": {
            "tags": []
          },
          "execution_count": 154
        }
      ]
    },
    {
      "cell_type": "code",
      "metadata": {
        "id": "dTYRdIwfnxLN",
        "colab_type": "code",
        "colab": {
          "base_uri": "https://localhost:8080/",
          "height": 69
        },
        "outputId": "ee720cf7-2306-4427-d090-63602b18a9d8"
      },
      "source": [
        "data[(data['gender']=='male') & (data['major'] == 'Physics')].admitted.value_counts()"
      ],
      "execution_count": 163,
      "outputs": [
        {
          "output_type": "execute_result",
          "data": {
            "text/plain": [
              "True     116\n",
              "False    109\n",
              "Name: admitted, dtype: int64"
            ]
          },
          "metadata": {
            "tags": []
          },
          "execution_count": 163
        }
      ]
    },
    {
      "cell_type": "markdown",
      "metadata": {
        "id": "lJbADr2pruUj",
        "colab_type": "text"
      },
      "source": [
        "# Total admit males with Physics major: 51.5%"
      ]
    },
    {
      "cell_type": "code",
      "metadata": {
        "id": "MSyAND4GokAE",
        "colab_type": "code",
        "colab": {
          "base_uri": "https://localhost:8080/",
          "height": 35
        },
        "outputId": "0ca8f164-02ac-4d66-a41a-4e82ddb89daf"
      },
      "source": [
        "(data[(data['gender']=='male') & (data['major'] == 'Physics') & (data['admitted']== True)].shape[0])/(data[(data['gender']=='male') & (data['major']=='Physics')].shape[0])*100"
      ],
      "execution_count": 186,
      "outputs": [
        {
          "output_type": "execute_result",
          "data": {
            "text/plain": [
              "51.55555555555556"
            ]
          },
          "metadata": {
            "tags": []
          },
          "execution_count": 186
        }
      ]
    },
    {
      "cell_type": "code",
      "metadata": {
        "id": "DVOcQYn7q9XJ",
        "colab_type": "code",
        "colab": {
          "base_uri": "https://localhost:8080/",
          "height": 35
        },
        "outputId": "99c66650-3028-4a48-898a-75783aa55eb4"
      },
      "source": [
        "# total Male Physics major\n",
        "data[(data['gender']=='male') & (data['major']=='Physics')].shape"
      ],
      "execution_count": 184,
      "outputs": [
        {
          "output_type": "execute_result",
          "data": {
            "text/plain": [
              "(225, 4)"
            ]
          },
          "metadata": {
            "tags": []
          },
          "execution_count": 184
        }
      ]
    },
    {
      "cell_type": "code",
      "metadata": {
        "id": "8NBCC2hDtGzx",
        "colab_type": "code",
        "colab": {
          "base_uri": "https://localhost:8080/",
          "height": 35
        },
        "outputId": "6128a2e0-dc1d-446d-9033-924ed9662d26"
      },
      "source": [
        "# total female Physics major\n",
        "data[(data['gender']=='female') & (data['major']=='Physics')].shape"
      ],
      "execution_count": 187,
      "outputs": [
        {
          "output_type": "execute_result",
          "data": {
            "text/plain": [
              "(31, 4)"
            ]
          },
          "metadata": {
            "tags": []
          },
          "execution_count": 187
        }
      ]
    },
    {
      "cell_type": "code",
      "metadata": {
        "id": "C3jGi3T7ts3U",
        "colab_type": "code",
        "colab": {
          "base_uri": "https://localhost:8080/",
          "height": 35
        },
        "outputId": "7ff6ebdf-6e1c-4d7c-ba2f-5231857b10be"
      },
      "source": [
        "# total Male Chemistry major\n",
        "data[(data['gender']=='male') & (data['major']=='Chemistry')].shape"
      ],
      "execution_count": 188,
      "outputs": [
        {
          "output_type": "execute_result",
          "data": {
            "text/plain": [
              "(18, 4)"
            ]
          },
          "metadata": {
            "tags": []
          },
          "execution_count": 188
        }
      ]
    },
    {
      "cell_type": "code",
      "metadata": {
        "id": "bjsWk-vWt0-g",
        "colab_type": "code",
        "colab": {
          "base_uri": "https://localhost:8080/",
          "height": 35
        },
        "outputId": "0a964136-68aa-40c1-fd04-3730f7aa2b2e"
      },
      "source": [
        "# total Female Chemistry major\n",
        "data[(data['gender']=='female') & (data['major']=='Chemistry')].shape"
      ],
      "execution_count": 189,
      "outputs": [
        {
          "output_type": "execute_result",
          "data": {
            "text/plain": [
              "(226, 4)"
            ]
          },
          "metadata": {
            "tags": []
          },
          "execution_count": 189
        }
      ]
    },
    {
      "cell_type": "markdown",
      "metadata": {
        "id": "WymlaCtjuPKa",
        "colab_type": "text"
      },
      "source": [
        "# Total admit females with Physics major: 74.1%"
      ]
    },
    {
      "cell_type": "code",
      "metadata": {
        "id": "nV_SdqQEt6dJ",
        "colab_type": "code",
        "colab": {
          "base_uri": "https://localhost:8080/",
          "height": 35
        },
        "outputId": "47bf0f34-7c87-4ecb-aa4a-351dce09e88c"
      },
      "source": [
        "(data[(data['gender']=='female') & (data['major'] == 'Physics') & (data['admitted']== True)].shape[0])/(data[(data['gender']=='female') & (data['major']=='Physics')].shape[0])*100"
      ],
      "execution_count": 190,
      "outputs": [
        {
          "output_type": "execute_result",
          "data": {
            "text/plain": [
              "74.19354838709677"
            ]
          },
          "metadata": {
            "tags": []
          },
          "execution_count": 190
        }
      ]
    },
    {
      "cell_type": "code",
      "metadata": {
        "id": "tk5vAct6uNMM",
        "colab_type": "code",
        "colab": {}
      },
      "source": [
        ""
      ],
      "execution_count": 0,
      "outputs": []
    },
    {
      "cell_type": "markdown",
      "metadata": {
        "colab_type": "text",
        "id": "wIoCJ8h_udXb"
      },
      "source": [
        "# Total admit males with Chemistry major: 74.1%"
      ]
    },
    {
      "cell_type": "code",
      "metadata": {
        "id": "qGOqSa8-ugQX",
        "colab_type": "code",
        "colab": {
          "base_uri": "https://localhost:8080/",
          "height": 35
        },
        "outputId": "b6fedd1b-ac10-4bbc-c43a-1afef56f863a"
      },
      "source": [
        "(data[(data['gender']=='male') & (data['major'] == 'Chemistry') & (data['admitted']== True)].shape[0])/(data[(data['gender']=='male') & (data['major']=='Chemistry')].shape[0])*100"
      ],
      "execution_count": 191,
      "outputs": [
        {
          "output_type": "execute_result",
          "data": {
            "text/plain": [
              "11.11111111111111"
            ]
          },
          "metadata": {
            "tags": []
          },
          "execution_count": 191
        }
      ]
    },
    {
      "cell_type": "markdown",
      "metadata": {
        "colab_type": "text",
        "id": "MqNPZW7avRCB"
      },
      "source": [
        "# Total admit females with Chemistry major: 74.1%"
      ]
    },
    {
      "cell_type": "code",
      "metadata": {
        "id": "j-j2fUQ2uqAL",
        "colab_type": "code",
        "colab": {
          "base_uri": "https://localhost:8080/",
          "height": 35
        },
        "outputId": "8c4da649-4d44-4b98-a669-35f7c711a088"
      },
      "source": [
        "(data[(data['gender']=='female') & (data['major'] == 'Chemistry') & (data['admitted']== True)].shape[0])/(data[(data['gender']=='female') & (data['major']=='Chemistry')].shape[0])*100"
      ],
      "execution_count": 192,
      "outputs": [
        {
          "output_type": "execute_result",
          "data": {
            "text/plain": [
              "22.566371681415927"
            ]
          },
          "metadata": {
            "tags": []
          },
          "execution_count": 192
        }
      ]
    },
    {
      "cell_type": "code",
      "metadata": {
        "id": "dn6pM9WOvEiX",
        "colab_type": "code",
        "colab": {}
      },
      "source": [
        ""
      ],
      "execution_count": 0,
      "outputs": []
    }
  ]
}